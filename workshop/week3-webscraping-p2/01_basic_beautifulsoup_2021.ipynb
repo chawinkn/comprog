{
  "cells": [
    {
      "cell_type": "code",
      "execution_count": null,
      "metadata": {
        "id": "SdxifaWH0xwn"
      },
      "outputs": [],
      "source": [
        "# Beautiful Soup\n",
        "\n",
        "# BeautifulSoup คือ Python library สำหรับดึงข้อมูลหน้าเว็บไซต์ หรือ HTML ซึ่งเป็นตัว Parser ทำให้ผู้ใช้สามารถจัดการข้อมูลหน้าเว็บได้ง่ายและรวดเร็ว\n",
        "# https://www.crummy.com/software/BeautifulSoup/bs4/doc/"
      ]
    },
    {
      "cell_type": "code",
      "execution_count": 3,
      "metadata": {
        "id": "_LIsfXglbElu"
      },
      "outputs": [
        {
          "name": "stdout",
          "output_type": "stream",
          "text": [
            "\n",
            "<body>\n",
            "<h1>aHeader</h1>\n",
            "<div class=\"section1\">\n",
            "<p>\n",
            "<a href=\"#\">aLink</a>\n",
            "</p>\n",
            "</div>\n",
            "<div class=\"section2\">\n",
            "<img src=\"img.jpg\"/>\n",
            "</div>\n",
            "</body>\n",
            "\n"
          ]
        }
      ],
      "source": [
        "from bs4 import BeautifulSoup\n",
        "\n",
        "example = '''\n",
        "<body>\n",
        "  <h1>aHeader</h1>\n",
        "  <div class=\"section1\">\n",
        "    <p>\n",
        "      <a href=\"#\">aLink</a>\n",
        "    </p>\n",
        "  </div>\n",
        "  <div class=\"section2\">\n",
        "    <img src=\"img.jpg\"/>\n",
        "  </div>\n",
        "</body>\n",
        "'''\n",
        "\n",
        "s = BeautifulSoup(example, 'html.parser')\n",
        "print(s)"
      ]
    },
    {
      "cell_type": "markdown",
      "metadata": {
        "id": "i3SXcO2bbElx"
      },
      "source": [
        "การใช้งานฟังก์ชัน .prettify() จะช่วยจัดหน้า html ให้มีความสวยงามและเป็นระเบียบมากขึ้น"
      ]
    },
    {
      "cell_type": "code",
      "execution_count": 4,
      "metadata": {
        "id": "Uy9d77oYbElx"
      },
      "outputs": [
        {
          "name": "stdout",
          "output_type": "stream",
          "text": [
            "<body>\n",
            " <h1>\n",
            "  aHeader\n",
            " </h1>\n",
            " <div class=\"section1\">\n",
            "  <p>\n",
            "   <a href=\"#\">\n",
            "    aLink\n",
            "   </a>\n",
            "  </p>\n",
            " </div>\n",
            " <div class=\"section2\">\n",
            "  <img src=\"img.jpg\"/>\n",
            " </div>\n",
            "</body>\n",
            "\n"
          ]
        }
      ],
      "source": [
        "#ลองรันดูสิ สวยขึ้นกว่าเดิมเยอะเลย\n",
        "\n",
        "print(s.prettify())"
      ]
    },
    {
      "cell_type": "markdown",
      "metadata": {
        "id": "QYeWOkCYbEl0"
      },
      "source": [
        "ถ้าต้องการแสดงผลเฉพาะส่วน body เพียงแค่ใส่ .body ก็จะได้ข้อมูลส่วน body"
      ]
    },
    {
      "cell_type": "code",
      "execution_count": 5,
      "metadata": {
        "id": "s2fahwUI0xwt"
      },
      "outputs": [
        {
          "data": {
            "text/plain": [
              "<body>\n",
              "<h1>aHeader</h1>\n",
              "<div class=\"section1\">\n",
              "<p>\n",
              "<a href=\"#\">aLink</a>\n",
              "</p>\n",
              "</div>\n",
              "<div class=\"section2\">\n",
              "<img src=\"img.jpg\"/>\n",
              "</div>\n",
              "</body>"
            ]
          },
          "execution_count": 5,
          "metadata": {},
          "output_type": "execute_result"
        }
      ],
      "source": [
        "s.body"
      ]
    },
    {
      "cell_type": "markdown",
      "metadata": {
        "id": "zwKaPgTtbEl3"
      },
      "source": [
        "ถ้าหากต้องการ tag ที่เป็น h1 สามารถใช้คำสั่ง .h1 ได้ หรืออาจจะใช้ฟังก์ชัน .find('h1') ก็ได้เหมือนกัน"
      ]
    },
    {
      "cell_type": "code",
      "execution_count": 6,
      "metadata": {
        "id": "scijow1j0xwy"
      },
      "outputs": [
        {
          "data": {
            "text/plain": [
              "<h1>aHeader</h1>"
            ]
          },
          "execution_count": 6,
          "metadata": {},
          "output_type": "execute_result"
        }
      ],
      "source": [
        "#s.h1\n",
        "s.find('h1')"
      ]
    },
    {
      "cell_type": "markdown",
      "metadata": {
        "id": "YaqkpYnYbEl5"
      },
      "source": [
        "โดยปกติแล้วถ้าใช้ .ตามด้วยชื่อ tag เราจะได้ tag แรกสุดที่เจอเท่านั้น"
      ]
    },
    {
      "cell_type": "code",
      "execution_count": 7,
      "metadata": {
        "id": "zIMH1UX90xw2"
      },
      "outputs": [
        {
          "data": {
            "text/plain": [
              "<div class=\"section1\">\n",
              "<p>\n",
              "<a href=\"#\">aLink</a>\n",
              "</p>\n",
              "</div>"
            ]
          },
          "execution_count": 7,
          "metadata": {},
          "output_type": "execute_result"
        }
      ],
      "source": [
        "s.div\n",
        "# s.find('div')"
      ]
    },
    {
      "cell_type": "markdown",
      "metadata": {
        "id": "mHruDymSbEl8"
      },
      "source": [
        "ถ้าต้องการหา tag ทั้งหมดสามารถทำได้โดยใช้ ('div) หรืออาจจะใช้ฟังก์ชัน .find_all('div) ก็ได้เหมือนกัน (return กลับมาเป็น list)"
      ]
    },
    {
      "cell_type": "code",
      "execution_count": 8,
      "metadata": {
        "id": "KEtkQFO_0xw6"
      },
      "outputs": [
        {
          "data": {
            "text/plain": [
              "[<div class=\"section1\">\n",
              " <p>\n",
              " <a href=\"#\">aLink</a>\n",
              " </p>\n",
              " </div>,\n",
              " <div class=\"section2\">\n",
              " <img src=\"img.jpg\"/>\n",
              " </div>]"
            ]
          },
          "execution_count": 8,
          "metadata": {},
          "output_type": "execute_result"
        }
      ],
      "source": [
        "s('div')\n",
        "# s.find_all('div')"
      ]
    },
    {
      "cell_type": "code",
      "execution_count": 9,
      "metadata": {
        "id": "1amHXc3iSxpV"
      },
      "outputs": [
        {
          "data": {
            "text/plain": [
              "<div class=\"section1\">\n",
              "<p>\n",
              "<a href=\"#\">aLink</a>\n",
              "</p>\n",
              "</div>"
            ]
          },
          "execution_count": 9,
          "metadata": {},
          "output_type": "execute_result"
        }
      ],
      "source": [
        "s('div')[0]"
      ]
    },
    {
      "cell_type": "code",
      "execution_count": 10,
      "metadata": {
        "id": "27cfk97m0xw-"
      },
      "outputs": [
        {
          "data": {
            "text/plain": [
              "<div class=\"section2\">\n",
              "<img src=\"img.jpg\"/>\n",
              "</div>"
            ]
          },
          "execution_count": 10,
          "metadata": {},
          "output_type": "execute_result"
        }
      ],
      "source": [
        "s('div')[1]"
      ]
    },
    {
      "cell_type": "markdown",
      "metadata": {
        "id": "-Kg8BL_MbEmB"
      },
      "source": [
        "เราสามารถใช้ฟังก์ชัน .find ในการหา tag ที่เราต้องการด้วย string , attribute , หรือ class ที่ต้องการได้"
      ]
    },
    {
      "cell_type": "code",
      "execution_count": 11,
      "metadata": {
        "id": "OiHN7OSB0xxA"
      },
      "outputs": [
        {
          "data": {
            "text/plain": [
              "<div class=\"section1\">\n",
              "<p>\n",
              "<a href=\"#\">aLink</a>\n",
              "</p>\n",
              "</div>"
            ]
          },
          "execution_count": 11,
          "metadata": {},
          "output_type": "execute_result"
        }
      ],
      "source": [
        "#ลองไล่ uncomment แล้วรันดูทีละคำสั่ง\n",
        "\n",
        "#s.find(string='aHeader')\n",
        "#s.find('h1', string='aHeader')\n",
        "#s.find(attrs={'class': 'section2'})\n",
        "s.find(class_='section1')"
      ]
    },
    {
      "cell_type": "code",
      "execution_count": null,
      "metadata": {
        "id": "h3atpKp90xxC"
      },
      "outputs": [
        {
          "data": {
            "text/plain": [
              "['\\n',\n",
              " <p>\n",
              " <a href=\"#\">aLink</a>\n",
              " </p>,\n",
              " '\\n']"
            ]
          },
          "execution_count": 25,
          "metadata": {},
          "output_type": "execute_result"
        }
      ],
      "source": [
        "#ลองเล่นทีละคำสั่งดูสิ\n",
        "# s.div\n",
        "#s.div.name\n",
        "#s.div.text\n",
        "# s.div.parent\n",
        "#s.div.previous_sibling # ทำไม?\n",
        "#s.div.previous_sibling.previous_sibling\n",
        "#s.div.next_sibling # ทำไม?\n",
        "#s.div.next_sibling.next_sibling\n",
        "#s.div.contents\n",
        "#s.div.next_element # ทำไม?\n",
        "#s.div.next_element.next_element"
      ]
    },
    {
      "cell_type": "code",
      "execution_count": 21,
      "metadata": {
        "id": "MqrlBPsC0xxF"
      },
      "outputs": [
        {
          "data": {
            "text/plain": [
              "<div class=\"section2\">\n",
              "<img src=\"img.jpg\"/>\n",
              "</div>"
            ]
          },
          "execution_count": 21,
          "metadata": {},
          "output_type": "execute_result"
        }
      ],
      "source": [
        "# s.div.find_previous_sibling()\n",
        "s.div.find_next_sibling()"
      ]
    },
    {
      "cell_type": "code",
      "execution_count": null,
      "metadata": {
        "id": "ToGluLPX0xxI"
      },
      "outputs": [
        {
          "data": {
            "text/plain": [
              "<div class=\"section2\">\n",
              "<img src=\"img.jpg\"/>\n",
              "</div>"
            ]
          },
          "execution_count": 23,
          "metadata": {},
          "output_type": "execute_result"
        }
      ],
      "source": [
        "#s.a.find_next_sibling()\n",
        "# None\n",
        "\n",
        "s.a.find_next()\n",
        "#s.a.find_next('img')\n",
        "#s.a.find_parent('div')\n",
        "# s.a.find_parent('body')"
      ]
    },
    {
      "cell_type": "code",
      "execution_count": 15,
      "metadata": {
        "id": "mNVWCaOq0xxK"
      },
      "outputs": [
        {
          "data": {
            "text/plain": [
              "<h1>aHeader</h1>"
            ]
          },
          "execution_count": 15,
          "metadata": {},
          "output_type": "execute_result"
        }
      ],
      "source": [
        "s.find('div', class_='section2').find_previous_sibling('h1')"
      ]
    },
    {
      "cell_type": "code",
      "execution_count": null,
      "metadata": {
        "id": "gBfmDNb2bEmN"
      },
      "outputs": [],
      "source": []
    }
  ],
  "metadata": {
    "colab": {
      "private_outputs": true,
      "provenance": []
    },
    "kernelspec": {
      "display_name": "Python 3",
      "language": "python",
      "name": "python3"
    },
    "language_info": {
      "codemirror_mode": {
        "name": "ipython",
        "version": 3
      },
      "file_extension": ".py",
      "mimetype": "text/x-python",
      "name": "python",
      "nbconvert_exporter": "python",
      "pygments_lexer": "ipython3",
      "version": "3.13.7"
    }
  },
  "nbformat": 4,
  "nbformat_minor": 0
}
